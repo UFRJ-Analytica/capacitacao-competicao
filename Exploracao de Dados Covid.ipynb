{
 "cells": [
  {
   "cell_type": "code",
   "execution_count": null,
   "id": "938eecb9-fc62-400f-9153-b0c8a8b4c3ad",
   "metadata": {},
   "outputs": [],
   "source": [
    "import pandas as pd\n",
    "import plotly.express as px"
   ]
  },
  {
   "cell_type": "markdown",
   "id": "f41db087-e2c7-4a47-ab5e-24d46fe2084f",
   "metadata": {},
   "source": [
    "# Leitura dos Dados"
   ]
  },
  {
   "cell_type": "markdown",
   "id": "a25a81e8-d985-4c03-8346-e87a2d6709c0",
   "metadata": {},
   "source": [
    "Origem: https://www.kaggle.com/datasets/sudalairajkumar/novel-corona-virus-2019-dataset"
   ]
  },
  {
   "cell_type": "code",
   "execution_count": null,
   "id": "dc97ce2f-07d5-48f5-8589-4c937be4afb5",
   "metadata": {},
   "outputs": [],
   "source": [
    "dados_covid = pd.read_csv(\"covid_19_data.csv\")"
   ]
  },
  {
   "cell_type": "code",
   "execution_count": null,
   "id": "d15e0064-8244-425b-8a13-51723e4d798e",
   "metadata": {},
   "outputs": [],
   "source": [
    "dados_covid.head()"
   ]
  },
  {
   "cell_type": "markdown",
   "id": "bb2e7128-3b23-4037-8cae-3180c52206f3",
   "metadata": {},
   "source": [
    "# Entendimento das Colunas"
   ]
  },
  {
   "cell_type": "markdown",
   "id": "8107dc59-a6ba-42cf-95a5-e630ef9396e9",
   "metadata": {},
   "source": [
    "Da própria fonte de dados:"
   ]
  },
  {
   "cell_type": "raw",
   "id": "17e6cb03-fe34-4863-bb81-f791165a2235",
   "metadata": {},
   "source": [
    "Sno - Serial number\n",
    "\n",
    "ObservationDate - Date of the observation in MM/DD/YYYY\n",
    "\n",
    "Province/State - Province or state of the observation (Could be empty when missing)\n",
    "\n",
    "Country/Region - Country of observation\n",
    "\n",
    "Last Update - Time in UTC at which the row is updated for the given province or country. (Not standardised and so please clean before using it)\n",
    "\n",
    "Confirmed - Cumulative number of confirmed cases till that date\n",
    "\n",
    "Deaths - Cumulative number of of deaths till that date\n",
    "\n",
    "Recovered - Cumulative number of recovered cases till that date"
   ]
  },
  {
   "cell_type": "code",
   "execution_count": null,
   "id": "2bd84cec-f5fc-4e6a-ad40-e10beed0ddb5",
   "metadata": {},
   "outputs": [],
   "source": [
    "dados_covid.info()"
   ]
  },
  {
   "cell_type": "code",
   "execution_count": null,
   "id": "9a88b215-a0bf-4270-bd12-6328f544b519",
   "metadata": {},
   "outputs": [],
   "source": [
    "dados_covid.describe()"
   ]
  },
  {
   "cell_type": "markdown",
   "id": "8f09cb8e-e7c9-40c1-9cc5-05a19947ffeb",
   "metadata": {},
   "source": [
    "# Tratamento dos Dados por Coluna"
   ]
  },
  {
   "cell_type": "markdown",
   "id": "01414355-fedc-4a1f-b886-6a353bfadb19",
   "metadata": {},
   "source": [
    "### ObservationDate"
   ]
  },
  {
   "cell_type": "code",
   "execution_count": null,
   "id": "7671b4aa-03ce-41f4-83e2-05cd5d1f21f8",
   "metadata": {},
   "outputs": [],
   "source": [
    "dados_covid[\"ObservationDate\"]"
   ]
  },
  {
   "cell_type": "code",
   "execution_count": null,
   "id": "7b555ad0-c083-498f-a7be-a0234046132e",
   "metadata": {},
   "outputs": [],
   "source": [
    "# formato MM/DD/YYYY\n",
    "dados_covid[\"ObservationDate\"] = pd.to_datetime(dados_covid[\"ObservationDate\"], format=\"%m/%d/%Y\")"
   ]
  },
  {
   "cell_type": "code",
   "execution_count": null,
   "id": "1e0c9351-1f5b-45f5-b680-26f101613541",
   "metadata": {},
   "outputs": [],
   "source": [
    "dados_covid[\"ObservationDate\"]"
   ]
  },
  {
   "cell_type": "markdown",
   "id": "4ecdc497-8b07-40a9-9f7f-a4a745e7f2a4",
   "metadata": {},
   "source": [
    "### Province/State"
   ]
  },
  {
   "cell_type": "code",
   "execution_count": null,
   "id": "1ce891a0-dd42-4a1e-86ee-b6b8f6f49864",
   "metadata": {},
   "outputs": [],
   "source": [
    "# dados_covid[\"Province/State\"].sort_values().unique()"
   ]
  },
  {
   "cell_type": "markdown",
   "id": "931400bd-b9b5-4c3e-85bd-f417b533715a",
   "metadata": {},
   "source": [
    "**1 - Alguns possuem espaços antes ou depois**"
   ]
  },
  {
   "cell_type": "code",
   "execution_count": null,
   "id": "94ab36e4-8af0-4eab-9746-b116b4b00924",
   "metadata": {},
   "outputs": [],
   "source": [
    "# STRIP: Remoção de Espaços do Início e Final de cada String\n",
    "dados_covid[\"Province/State\"] = dados_covid[\"Province/State\"].str.strip()"
   ]
  },
  {
   "cell_type": "markdown",
   "id": "1fa3e055-d997-4c72-aebd-1aa6bd00bfbb",
   "metadata": {},
   "source": [
    "**2 - Alguns possuem o estado junto - Verificar se existe duplicata**"
   ]
  },
  {
   "cell_type": "code",
   "execution_count": null,
   "id": "ae190e0e-76eb-4ebc-b95a-b785395e1093",
   "metadata": {},
   "outputs": [],
   "source": [
    "# dados_covid[\"Province/State\"].sort_values().unique()"
   ]
  },
  {
   "cell_type": "raw",
   "id": "909ee8d9-04cc-49eb-a84a-52b1cb7ed280",
   "metadata": {},
   "source": [
    "'Falkland Islands (Islas Malvinas)', 'Falkland Islands (Malvinas)'"
   ]
  },
  {
   "cell_type": "raw",
   "id": "2016d511-314e-4a55-97ab-6f43e95679cc",
   "metadata": {},
   "source": [
    "'Lackland, TX', 'Lackland, TX (From Diamond Princess)'"
   ]
  },
  {
   "cell_type": "markdown",
   "id": "5dc0d19d-1e90-4ea1-b0ae-368aad2cc720",
   "metadata": {},
   "source": [
    "No segundo caso pode ser bom para identificar a origem específica. Vai depender do objetivo da análise. Se essa coluna realmente for só para province/state poderíamos criar uma nova que permitisse essas específicas e remover todos esses complementos da coluna atual."
   ]
  },
  {
   "cell_type": "code",
   "execution_count": null,
   "id": "c9cb08ab-2baa-43ef-b13a-446ad7bb0a10",
   "metadata": {},
   "outputs": [],
   "source": [
    "dados_covid[\"Province/State\"] = dados_covid[\"Province/State\"].replace({ \n",
    "    'Falkland Islands (Islas Malvinas)': 'Falkland Islands',\n",
    "    'Falkland Islands (Malvinas)': 'Falkland Islands'\n",
    "})"
   ]
  },
  {
   "cell_type": "code",
   "execution_count": null,
   "id": "e01194a7-d9c2-4466-bcbe-a9045bf51474",
   "metadata": {},
   "outputs": [],
   "source": [
    "dados_covid[\"Province/State\"] = dados_covid[\"Province/State\"].replace(\n",
    "    to_replace=r'[ ]*\\([^)]*\\)', value='', regex=True\n",
    ")"
   ]
  },
  {
   "cell_type": "markdown",
   "id": "29b936a8-5d2a-40a4-857b-125fad33b415",
   "metadata": {},
   "source": [
    "**3 - Dados nulos**"
   ]
  },
  {
   "cell_type": "code",
   "execution_count": null,
   "id": "15c4dd00-9cd5-4ac5-8024-7f145a5b3547",
   "metadata": {},
   "outputs": [],
   "source": [
    "len(dados_covid[\"Province/State\"])"
   ]
  },
  {
   "cell_type": "code",
   "execution_count": null,
   "id": "bca282b8-da9f-41d1-bf55-c7b37b4d5c87",
   "metadata": {},
   "outputs": [],
   "source": [
    "dados_covid[\"Province/State\"].isna().sum()"
   ]
  },
  {
   "cell_type": "markdown",
   "id": "fef873c1-23fa-4579-a6ac-a01e74e90239",
   "metadata": {},
   "source": [
    "### Country/Region"
   ]
  },
  {
   "cell_type": "markdown",
   "id": "2bd0f445-dd8d-4ab6-8b0b-57f83dd1d650",
   "metadata": {},
   "source": [
    "**1 - Alguns possuem espaços antes ou depois**"
   ]
  },
  {
   "cell_type": "code",
   "execution_count": null,
   "id": "164c244f-2151-4a4c-ab34-3b126d5ef634",
   "metadata": {},
   "outputs": [],
   "source": [
    "# sorted(dados_covid[\"Country/Region\"].unique())"
   ]
  },
  {
   "cell_type": "code",
   "execution_count": null,
   "id": "36ee90d0-bcbe-406f-b36d-f3a9f459ad87",
   "metadata": {},
   "outputs": [],
   "source": [
    "# STRIP: Remoção de Espaços do Início e Final de cada String\n",
    "dados_covid[\"Country/Region\"] = dados_covid[\"Country/Region\"].str.strip()"
   ]
  },
  {
   "cell_type": "markdown",
   "id": "20a746c8-09d6-4f44-97b9-1b51aebf9eea",
   "metadata": {},
   "source": [
    "**2 - Replaces**"
   ]
  },
  {
   "cell_type": "code",
   "execution_count": null,
   "id": "4d7ccf69-335a-4ee9-99ab-d7864eacd9f7",
   "metadata": {},
   "outputs": [],
   "source": [
    "# sorted(dados_covid[\"Country/Region\"].unique())"
   ]
  },
  {
   "cell_type": "code",
   "execution_count": null,
   "id": "3cb994c7-c4d3-41ae-aefb-b967f30c644d",
   "metadata": {},
   "outputs": [],
   "source": [
    "dados_covid[\"Country/Region\"] = dados_covid[\"Country/Region\"].replace({\n",
    "    \"('St. Martin',)\": \"St. Martin\",\n",
    "    \"Bahamas, The\": \"Bahamas\",\n",
    "    'Gambia, The': 'Gambia'\n",
    "})"
   ]
  },
  {
   "cell_type": "markdown",
   "id": "b86b5886-0f59-45ea-aa9f-77bb6d472a9b",
   "metadata": {},
   "source": [
    "**3 - Dados Nulos**"
   ]
  },
  {
   "cell_type": "code",
   "execution_count": null,
   "id": "7b3939fe-6e1b-42c7-9a8d-298e7c5b60bd",
   "metadata": {},
   "outputs": [],
   "source": [
    "dados_covid[\"Country/Region\"].isna().sum()"
   ]
  },
  {
   "cell_type": "markdown",
   "id": "dd8747f2-296f-4d03-817b-5a6922db99fb",
   "metadata": {},
   "source": [
    "### Last Update"
   ]
  },
  {
   "cell_type": "code",
   "execution_count": null,
   "id": "0ac0f0e6-b8ec-458a-b716-0c69c3b37fce",
   "metadata": {},
   "outputs": [],
   "source": [
    "dados_covid[[\"Last Update\", \"ObservationDate\"]].iloc[[0,500,1000,10000,13000]]"
   ]
  },
  {
   "cell_type": "markdown",
   "id": "75f8d2c1-130b-4dc5-b332-7be285c2f121",
   "metadata": {},
   "source": [
    "**1/22/2020 17:00**"
   ]
  },
  {
   "cell_type": "code",
   "execution_count": null,
   "id": "f45bd21b-2940-40d5-b279-f3ea759c4af8",
   "metadata": {},
   "outputs": [],
   "source": [
    "match_filter = dados_covid[\"Last Update\"].str.match(\"[0-9]{1,2}\\/[0-9]{1,2}\\/[0-9]{4} [0-9]{1,2}:[0-9]{2}\")"
   ]
  },
  {
   "cell_type": "code",
   "execution_count": null,
   "id": "af086aa5-6854-4828-bc55-9a84e9da9cbf",
   "metadata": {},
   "outputs": [],
   "source": [
    "dados_covid.loc[match_filter, \"Last Update (ts)\"] = pd.to_datetime(\n",
    "    dados_covid[\"Last Update\"].loc[match_filter], \n",
    "    format=\"%m/%d/%Y %H:%M\"\n",
    ")"
   ]
  },
  {
   "cell_type": "markdown",
   "id": "0dfb3b84-d05f-4a62-ad26-e8437119aa65",
   "metadata": {},
   "source": [
    "**3/8/20 5:31**"
   ]
  },
  {
   "cell_type": "code",
   "execution_count": null,
   "id": "4b3a79ec-ff72-4e89-ae24-9e59df7ed2d3",
   "metadata": {},
   "outputs": [],
   "source": [
    "match_filter = dados_covid[\"Last Update\"].str.match(\"[0-9]{1,2}\\/[0-9]{1,2}\\/[0-9]{2} [0-9]{1,2}:[0-9]{2}\")"
   ]
  },
  {
   "cell_type": "code",
   "execution_count": null,
   "id": "1c8cc676-9644-4f39-976a-796ae87b055e",
   "metadata": {},
   "outputs": [],
   "source": [
    "dados_covid.loc[match_filter, \"Last Update (ts)\"] = pd.to_datetime(\n",
    "    dados_covid[\"Last Update\"].loc[match_filter], \n",
    "    format=\"%m/%d/%y %H:%M\"\n",
    ")"
   ]
  },
  {
   "cell_type": "markdown",
   "id": "05b58b0c-7e49-4490-aa46-e4dd7650391b",
   "metadata": {},
   "source": [
    "**2020-02-01T01:52:40**"
   ]
  },
  {
   "cell_type": "code",
   "execution_count": null,
   "id": "e8b444f9-10e1-4459-9271-07fda307bc68",
   "metadata": {},
   "outputs": [],
   "source": [
    "match_filter = dados_covid[\"Last Update\"].str.match(\"[0-9]{4}-[0-9]{1,2}-[0-9]{1,2}T[0-9]{2}:[0-9]{2}:[0-9]{2}\")"
   ]
  },
  {
   "cell_type": "code",
   "execution_count": null,
   "id": "20baca4e-78b3-473d-aba6-59ce2e27e46f",
   "metadata": {},
   "outputs": [],
   "source": [
    "dados_covid.loc[match_filter, \"Last Update (ts)\"] = pd.to_datetime(\n",
    "    dados_covid[\"Last Update\"].loc[match_filter], \n",
    "    format=\"%Y/%m/%dT%H:%M:%S\"\n",
    ")"
   ]
  },
  {
   "cell_type": "markdown",
   "id": "e0b8e822-034d-4d56-bf7d-6667a668b0ef",
   "metadata": {},
   "source": [
    "**2020-02-01 01:52:40**"
   ]
  },
  {
   "cell_type": "code",
   "execution_count": null,
   "id": "efcdd2b3-5966-4adb-9650-0ecf2971781f",
   "metadata": {},
   "outputs": [],
   "source": [
    "match_filter = dados_covid[\"Last Update\"].str.match(\"[0-9]{4}-[0-9]{1,2}-[0-9]{1,2} [0-9]{2}:[0-9]{2}:[0-9]{2}\")"
   ]
  },
  {
   "cell_type": "code",
   "execution_count": null,
   "id": "d8c5730a-67ff-40d6-8e62-9c61b71b5f09",
   "metadata": {},
   "outputs": [],
   "source": [
    "dados_covid.loc[match_filter, \"Last Update (ts)\"] = pd.to_datetime(\n",
    "    dados_covid[\"Last Update\"].loc[match_filter], \n",
    "    format=\"%Y/%m/%d %H:%M:%S\"\n",
    ")"
   ]
  },
  {
   "cell_type": "markdown",
   "id": "5b974810-9180-45b1-9988-0047f444cc66",
   "metadata": {},
   "source": [
    "**Verificando se Atualizamos Todos**"
   ]
  },
  {
   "cell_type": "code",
   "execution_count": null,
   "id": "402394f4-3a5c-417d-a5d3-287361c1e765",
   "metadata": {},
   "outputs": [],
   "source": [
    "dados_covid[\"Last Update (ts)\"].isna().sum()"
   ]
  },
  {
   "cell_type": "markdown",
   "id": "2d4c2e7b-cf69-4784-b03c-887cf7397cf1",
   "metadata": {},
   "source": [
    "**Atualizando a Coluna**"
   ]
  },
  {
   "cell_type": "code",
   "execution_count": null,
   "id": "82300cb6-8ef0-43f1-b1db-597a1eef549f",
   "metadata": {},
   "outputs": [],
   "source": [
    "dados_covid[\"Last Update\"] = dados_covid[\"Last Update (ts)\"]"
   ]
  },
  {
   "cell_type": "code",
   "execution_count": null,
   "id": "1c4154d7-a404-4d53-bd85-7b78de3b7fc6",
   "metadata": {},
   "outputs": [],
   "source": [
    "dados_covid.drop(\"Last Update (ts)\", axis=1, inplace=True)"
   ]
  },
  {
   "cell_type": "markdown",
   "id": "36950c01-cca2-4368-8e68-aaa882bba9a3",
   "metadata": {},
   "source": [
    "### Confirmed"
   ]
  },
  {
   "cell_type": "code",
   "execution_count": null,
   "id": "1264dfcb-6165-439f-b874-bcda62bc962b",
   "metadata": {},
   "outputs": [],
   "source": [
    "dados_covid[\"Confirmed\"].dtype # ok"
   ]
  },
  {
   "cell_type": "code",
   "execution_count": null,
   "id": "338b6874-5f60-4a0d-babc-1e0f37b87445",
   "metadata": {},
   "outputs": [],
   "source": [
    "dados_covid[\"Confirmed\"].describe()"
   ]
  },
  {
   "cell_type": "markdown",
   "id": "cebcdeab-face-45aa-a156-34884a175d91",
   "metadata": {},
   "source": [
    "**Análise:** Estranho ter dados negativos."
   ]
  },
  {
   "cell_type": "code",
   "execution_count": null,
   "id": "50c9c1a5-234f-41aa-afda-e4ecbe4698b8",
   "metadata": {},
   "outputs": [],
   "source": [
    "dados_covid[\"Confirmed\"].plot.hist(bins=30)"
   ]
  },
  {
   "cell_type": "code",
   "execution_count": null,
   "id": "35cfaa55-427f-4b42-950c-0ce2b62caaf2",
   "metadata": {},
   "outputs": [],
   "source": [
    "px.histogram(dados_covid[\"Confirmed\"])"
   ]
  },
  {
   "cell_type": "markdown",
   "id": "ea139f8c-2281-40f6-8522-5a7f02654975",
   "metadata": {},
   "source": [
    "**Remoção de negativos**"
   ]
  },
  {
   "cell_type": "code",
   "execution_count": null,
   "id": "e7f637c8-db51-4be1-a78c-c9d3ecbe6d51",
   "metadata": {},
   "outputs": [],
   "source": [
    "dados_covid[dados_covid[\"Confirmed\"] < 0]"
   ]
  },
  {
   "cell_type": "code",
   "execution_count": null,
   "id": "7aeac8a4-f0f1-4ae7-a649-09e2bea64b48",
   "metadata": {},
   "outputs": [],
   "source": [
    "indices_removidos = dados_covid[dados_covid[\"Confirmed\"] < 0].index"
   ]
  },
  {
   "cell_type": "code",
   "execution_count": null,
   "id": "c0d59e43-f968-4320-a5d1-1006b45da631",
   "metadata": {},
   "outputs": [],
   "source": [
    "dados_covid.drop(index=indices_removidos, inplace=True)"
   ]
  },
  {
   "cell_type": "markdown",
   "id": "343ba78b-5f42-4f68-a097-ed227cc9c019",
   "metadata": {
    "tags": []
   },
   "source": [
    "### Deaths"
   ]
  },
  {
   "cell_type": "code",
   "execution_count": null,
   "id": "a29acda7-4e9b-4b9a-86ff-6d67da5d22b2",
   "metadata": {},
   "outputs": [],
   "source": [
    "dados_covid[\"Deaths\"].dtype # ok"
   ]
  },
  {
   "cell_type": "code",
   "execution_count": null,
   "id": "6d1fd1fc-c9de-4c87-a461-aa15a71e52f8",
   "metadata": {},
   "outputs": [],
   "source": [
    "dados_covid[\"Deaths\"].describe()"
   ]
  },
  {
   "cell_type": "markdown",
   "id": "496c3862-9d32-4d42-8e50-4c73793bcc34",
   "metadata": {},
   "source": [
    "**Análise:** Estranho ter dados negativos."
   ]
  },
  {
   "cell_type": "code",
   "execution_count": null,
   "id": "7bbcd084-2f6c-46a9-bdf1-6d11926d2155",
   "metadata": {},
   "outputs": [],
   "source": [
    "dados_covid[\"Deaths\"].plot.hist(bins=30)"
   ]
  },
  {
   "cell_type": "markdown",
   "id": "12bf750d-ef0f-4555-9c5d-5f13cc1bfb92",
   "metadata": {},
   "source": [
    "**Remoção de negativos**"
   ]
  },
  {
   "cell_type": "code",
   "execution_count": null,
   "id": "1310c94b-b4eb-403e-ab13-a881e8abc3e1",
   "metadata": {},
   "outputs": [],
   "source": [
    "dados_covid[dados_covid[\"Deaths\"] < 0]"
   ]
  },
  {
   "cell_type": "code",
   "execution_count": null,
   "id": "1e06a47e-6100-4597-a729-54cdaccaa220",
   "metadata": {},
   "outputs": [],
   "source": [
    "dados_covid.drop(index=dados_covid[dados_covid[\"Deaths\"] < 0].index, inplace=True)"
   ]
  },
  {
   "cell_type": "markdown",
   "id": "d173dedc-819a-4e4e-9c26-4d87a197c611",
   "metadata": {
    "tags": []
   },
   "source": [
    "### Recovered"
   ]
  },
  {
   "cell_type": "code",
   "execution_count": null,
   "id": "1e6f2802-812d-43a5-b107-f8246b4c8dbe",
   "metadata": {},
   "outputs": [],
   "source": [
    "dados_covid[\"Recovered\"].dtype # ok"
   ]
  },
  {
   "cell_type": "code",
   "execution_count": null,
   "id": "44aa4704-4008-4143-ae11-27066bd84a68",
   "metadata": {},
   "outputs": [],
   "source": [
    "dados_covid[\"Recovered\"].describe()"
   ]
  },
  {
   "cell_type": "markdown",
   "id": "dbab7006-3b4b-4f7c-a755-b87e44630b4f",
   "metadata": {},
   "source": [
    "**Análise:** Estranho ter dados negativos."
   ]
  },
  {
   "cell_type": "code",
   "execution_count": null,
   "id": "36886fd6-0771-4108-a2e3-2aa62d8d56d9",
   "metadata": {},
   "outputs": [],
   "source": [
    "dados_covid[\"Recovered\"].plot.hist(bins=30)"
   ]
  },
  {
   "cell_type": "markdown",
   "id": "01224474-22d2-4f2e-b9d2-a62afa246759",
   "metadata": {},
   "source": [
    "**Remoção de negativos**"
   ]
  },
  {
   "cell_type": "code",
   "execution_count": null,
   "id": "230ab2f3-226b-435e-8e91-b0bc10a520bf",
   "metadata": {},
   "outputs": [],
   "source": [
    "dados_covid[dados_covid[\"Recovered\"] < 0]"
   ]
  },
  {
   "cell_type": "code",
   "execution_count": null,
   "id": "41db3d5d-3698-4e2c-a796-cc71b21e695e",
   "metadata": {},
   "outputs": [],
   "source": [
    "dados_covid.drop(index=dados_covid[dados_covid[\"Recovered\"] < 0].index, inplace=True)"
   ]
  },
  {
   "cell_type": "markdown",
   "id": "f09973a6-a27e-49af-8fb3-67c936f948f6",
   "metadata": {},
   "source": [
    "### Dados da Colombia"
   ]
  },
  {
   "cell_type": "markdown",
   "id": "345f32e2-5d9c-4331-a67a-10bdbf51db08",
   "metadata": {},
   "source": [
    "Todos os dados estranhos são da colombia"
   ]
  },
  {
   "cell_type": "code",
   "execution_count": null,
   "id": "b45434c4-14fd-40dc-b1d7-5ff01a9acb2a",
   "metadata": {},
   "outputs": [],
   "source": [
    "dados_colombia = dados_covid[dados_covid[\"Country/Region\"] == \"Colombia\"]"
   ]
  },
  {
   "cell_type": "code",
   "execution_count": null,
   "id": "2f37afa7-6a51-4571-921a-b34644bf292e",
   "metadata": {},
   "outputs": [],
   "source": [
    "dados_colombia.pivot(index=\"ObservationDate\", columns=\"Province/State\", values=\"Confirmed\")"
   ]
  },
  {
   "cell_type": "code",
   "execution_count": null,
   "id": "782e8bb0-9073-48d6-99a7-4639ca926769",
   "metadata": {},
   "outputs": [],
   "source": [
    "pivot_colombia = dados_colombia.pivot(index=\"ObservationDate\", columns=\"Province/State\", values=\"Confirmed\")"
   ]
  },
  {
   "cell_type": "code",
   "execution_count": null,
   "id": "655b6da5-b1c7-43d2-86dd-54d9972556c8",
   "metadata": {},
   "outputs": [],
   "source": [
    "px.line(dados_colombia.pivot(index=\"ObservationDate\", columns=\"Province/State\", values=\"Confirmed\"))"
   ]
  },
  {
   "cell_type": "code",
   "execution_count": null,
   "id": "8333e66b-b156-4c53-abd7-53c55e90adce",
   "metadata": {},
   "outputs": [],
   "source": [
    "px.line(dados_colombia.pivot(index=\"ObservationDate\", columns=\"Province/State\", values=\"Deaths\"))"
   ]
  },
  {
   "cell_type": "code",
   "execution_count": null,
   "id": "579e8f86-1292-4de6-9ed1-f2c75ee3465b",
   "metadata": {},
   "outputs": [],
   "source": [
    "px.line(dados_colombia.pivot(index=\"ObservationDate\", columns=\"Province/State\", values=\"Recovered\"))"
   ]
  },
  {
   "cell_type": "markdown",
   "id": "a060b985-ff00-427a-9b6d-e26e1a6e68b9",
   "metadata": {},
   "source": [
    "# Tratamento de Duplicatas"
   ]
  },
  {
   "cell_type": "code",
   "execution_count": null,
   "id": "9debec74-0de0-4fae-80b0-785242564958",
   "metadata": {},
   "outputs": [],
   "source": [
    "dados_covid = dados_covid.drop_duplicates(subset=[\"ObservationDate\", \"Province/State\", \"Country/Region\"], keep=\"last\")"
   ]
  },
  {
   "cell_type": "markdown",
   "id": "c1d9b295-a22e-4b35-b2c5-b96745c657aa",
   "metadata": {},
   "source": [
    "# Análise Brasil"
   ]
  },
  {
   "cell_type": "code",
   "execution_count": null,
   "id": "425a2f3a-49e7-4ffe-a2de-309dc2a9a138",
   "metadata": {},
   "outputs": [],
   "source": [
    "dados_brasil = dados_covid[dados_covid[\"Country/Region\"] == \"Brazil\"]"
   ]
  },
  {
   "cell_type": "code",
   "execution_count": null,
   "id": "5d31dd6b-e1df-43a5-a779-4359ed963a9d",
   "metadata": {},
   "outputs": [],
   "source": [
    "dados_brasil"
   ]
  },
  {
   "cell_type": "code",
   "execution_count": null,
   "id": "f72fc12c-5041-4a9c-be84-8874af499ba9",
   "metadata": {},
   "outputs": [],
   "source": [
    "# Vamos apagar os dados nulos pois sao de quando nao dividia por estado\n",
    "dados_brasil = dados_brasil.dropna()"
   ]
  },
  {
   "cell_type": "code",
   "execution_count": null,
   "id": "bd4072cd-942b-4c7e-b1a1-d838aec6d597",
   "metadata": {},
   "outputs": [],
   "source": [
    "px.line(dados_brasil.pivot(index=\"ObservationDate\", columns=\"Province/State\", values=\"Deaths\"))"
   ]
  },
  {
   "cell_type": "markdown",
   "id": "4e2c3e87-4b64-4915-a1de-d8b8c8092838",
   "metadata": {},
   "source": [
    "## Interpolação de Séries"
   ]
  },
  {
   "cell_type": "markdown",
   "id": "af98caff-2ac6-414c-93d2-745ab536e472",
   "metadata": {},
   "source": [
    "### Exemplo"
   ]
  },
  {
   "cell_type": "code",
   "execution_count": null,
   "id": "400f9e0b-f043-4bc6-a54f-75252bee85e0",
   "metadata": {},
   "outputs": [],
   "source": [
    "dados_rio = dados_brasil[dados_brasil[\"Province/State\"] == \"Rio de Janeiro\"].set_index(\"ObservationDate\").sort_index()\n",
    "dados_rio"
   ]
  },
  {
   "cell_type": "code",
   "execution_count": null,
   "id": "315a4617-ed1a-43c5-afc3-24966be20cf7",
   "metadata": {},
   "outputs": [],
   "source": [
    "sample_dados_rio = dados_rio.sample(int(len(dados_rio) * 0.1)).sort_index()"
   ]
  },
  {
   "cell_type": "code",
   "execution_count": null,
   "id": "d11d06b7-a5a7-46d5-9f26-34a244db0918",
   "metadata": {},
   "outputs": [],
   "source": [
    "sample_dados_rio[\"Confirmed\"].plot(markeredgecolor=\"red\", marker='x')"
   ]
  },
  {
   "cell_type": "code",
   "execution_count": null,
   "id": "52554e4f-71b6-4cb4-bec4-2fd17e5d2f97",
   "metadata": {},
   "outputs": [],
   "source": [
    "sample_dados_rio[\"Confirmed\"].asfreq('d').interpolate(\"linear\").plot(markeredgecolor=\"red\", marker='x')"
   ]
  },
  {
   "cell_type": "markdown",
   "id": "cd88cb43-4a6e-4838-be28-36c31d0228f5",
   "metadata": {},
   "source": [
    "# Correlação de dados"
   ]
  },
  {
   "cell_type": "code",
   "execution_count": null,
   "id": "4be6fd2d-9957-4195-804b-9723c86d5abf",
   "metadata": {},
   "outputs": [],
   "source": [
    "pivot_covid = dados_covid.pivot_table(index=\"ObservationDate\", columns=\"Country/Region\", values=\"Confirmed\", aggfunc=\"sum\")"
   ]
  },
  {
   "cell_type": "code",
   "execution_count": null,
   "id": "8ca56929-8dcd-493f-ac1b-1c17df0df0df",
   "metadata": {},
   "outputs": [],
   "source": [
    "paises_selecionados = [\"Brazil\", \"Ecuador\", \"Chile\", \"Argentina\", \"US\", \"Canada\", \"UK\", \"Italy\", \"Mainland China\", \"Australia\"]\n",
    "pivot_selecionados = pivot_covid[paises_selecionados]"
   ]
  },
  {
   "cell_type": "code",
   "execution_count": null,
   "id": "01b65b71-3935-4efb-b889-a17f69034ed1",
   "metadata": {},
   "outputs": [],
   "source": [
    "pivot_selecionados"
   ]
  },
  {
   "cell_type": "markdown",
   "id": "743c684a-8351-44e3-be95-c938807ac2ca",
   "metadata": {},
   "source": [
    "**Dados Nulos são preocupantes pois quebram a correlação**"
   ]
  },
  {
   "cell_type": "code",
   "execution_count": null,
   "id": "72551785-ca8f-45fa-80c0-9953df2061ea",
   "metadata": {},
   "outputs": [],
   "source": [
    "pivot_selecionados = pivot_selecionados.iloc[50:]"
   ]
  },
  {
   "cell_type": "code",
   "execution_count": null,
   "id": "9ec37dd5-2434-488d-8638-edfb6f500bdf",
   "metadata": {},
   "outputs": [],
   "source": [
    "corr_dados = pivot_selecionados.corr()"
   ]
  },
  {
   "cell_type": "code",
   "execution_count": null,
   "id": "9a1ba36d-7ac0-464d-96b2-3e32640f475b",
   "metadata": {},
   "outputs": [],
   "source": [
    "corr_dados[\"Brazil\"].sort_values().dropna()"
   ]
  },
  {
   "cell_type": "code",
   "execution_count": null,
   "id": "bcbf3345-3d0a-474f-8dbc-25d7b07fb914",
   "metadata": {},
   "outputs": [],
   "source": [
    "# Perceba que correlacao nao tem a ver com os valores brutos em si, mas com a relacao de crescimento\n",
    "\n",
    "pivot_selecionados[[\"Brazil\", \"Ecuador\"]].plot()"
   ]
  },
  {
   "cell_type": "code",
   "execution_count": null,
   "id": "3abff7c0-cc24-4856-a0da-d616695a146c",
   "metadata": {},
   "outputs": [],
   "source": [
    "# Correlacao ajustada\n",
    "\n",
    "valores_finais = pivot_selecionados[[\"Brazil\", \"Ecuador\"]].iloc[-1]\n",
    "\n",
    "(pivot_selecionados[[\"Brazil\", \"Ecuador\"]] / valores_finais).plot()"
   ]
  },
  {
   "cell_type": "code",
   "execution_count": null,
   "id": "da935cf4-0693-425a-ab0b-8066690d10a1",
   "metadata": {},
   "outputs": [],
   "source": [
    "# Correlacao ajustada\n",
    "\n",
    "valores_finais = pivot_selecionados[[\"Brazil\", \"Australia\"]].iloc[-1]\n",
    "\n",
    "(pivot_selecionados[[\"Brazil\", \"Australia\"]] / valores_finais).plot()"
   ]
  },
  {
   "cell_type": "code",
   "execution_count": null,
   "id": "376066e9-3d3f-453d-840f-5bd030dcc60c",
   "metadata": {},
   "outputs": [],
   "source": [
    "# Perceba como a australia de fato tem uma curva diferente das demais\n",
    "\n",
    "valores_iniciais = pivot_selecionados[paises_selecionados].iloc[0]\n",
    "valores_finais = pivot_selecionados[paises_selecionados].iloc[-1]\n",
    "( (pivot_selecionados[paises_selecionados] - valores_iniciais) / (valores_finais - valores_iniciais) ).plot()"
   ]
  }
 ],
 "metadata": {
  "kernelspec": {
   "display_name": "Python 3",
   "language": "python",
   "name": "python3"
  },
  "language_info": {
   "codemirror_mode": {
    "name": "ipython",
    "version": 3
   },
   "file_extension": ".py",
   "mimetype": "text/x-python",
   "name": "python",
   "nbconvert_exporter": "python",
   "pygments_lexer": "ipython3",
   "version": "3.8.10"
  }
 },
 "nbformat": 4,
 "nbformat_minor": 5
}
